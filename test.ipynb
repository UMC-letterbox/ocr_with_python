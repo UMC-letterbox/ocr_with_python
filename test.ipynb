{
 "cells": [
  {
   "cell_type": "code",
   "execution_count": 1,
   "metadata": {},
   "outputs": [],
   "source": [
    "import pytesseract\n",
    "import cv2\n",
    "import matplotlib.pyplot as plt\n"
   ]
  },
  {
   "cell_type": "code",
   "execution_count": 2,
   "metadata": {},
   "outputs": [],
   "source": [
    "#path = 'testImg.png'\n",
    "#image = cv2.imread(path)\n",
    "#rgb_image = cv2.cvtColor(image, cv2.COLOR_BGR2RGB)\n",
    "pytesseract.pytesseract.tesseract_cmd = r'C:\\Program Files\\Tesseract-OCR\\tesseract'"
   ]
  },
  {
   "cell_type": "code",
   "execution_count": 3,
   "metadata": {},
   "outputs": [
    {
     "name": "stdout",
     "output_type": "stream",
     "text": [
      "테스트 이미지 테스트 이미지 테스트 이미지 테스트 이미지\n",
      "테스트 이미지 테스트 이미지 테스트 이미지 테스트 이미지\n",
      "테스트 이미지 테스트 이미지 테스트 이미지 테스트 이미지\n",
      "테스트 이미지 테스트 이미지 테스트 이미지 테스트 이미지\n",
      "테스트 이미지 테스트 이미지 테스트 이미지 테스트 이미지\n",
      "테스트 이미지 테스트 이미지 테스트 이미지 테스트 이미지\n",
      "AJAE 구해 BALE O[O]A] BJAE OfO|A] JAE Ojo]A|\n",
      "테스트 이미지 테스트 이미지 테스트 이미지 테스트 이미지\n",
      "테스트 이미지 테스트 이미지 테스트 이미지 테스트 이미지\n",
      "테스트 이미지 테스트 이미지 테스트 이미지 테스트 이미지\n",
      "테스트 이미지 테스트 이미지 테스트 이미지 테스트 이미지\n",
      "테스트 이미지 테스트 이미지 테스트 이미지 테스트 이미지\n",
      "테스트 이미지 테스트 이미지 테스트 이미지 테스트 이미지\n",
      "테스트 이미지 테스트 이미지 테스트 이미지 테스트 이미지\n",
      "테스트 이미지 테스트 이미지 테스트 이미지 테스트 이미지\n",
      "테스트 이미지 테스트 이미지 테스트 이미지 테스트 이미지\n",
      "테스트 이미지 테스트 이미지 테스트 이미지 테스트 이미지\n",
      "테스트 이미지 테스트 이미지 테스트 이미지 테스트 이미지\n",
      "테스트 이미지 테스트 이미지 테스트 이미지 테스트 이미지\n",
      "테스트 이미지 테스트 이미지 테스트 이미지 테스트 이미지\n",
      "테스트 이미지 테스트 이미지 테스트 이미지 테스트 이미지\n",
      "테스트 이미지 테스트 이미지 테스트 이미지 테스트 이미지\n",
      "테스트 이미지 테스트 이미지 테스트 이미지 테스트 이미지\n",
      "테스트 이미지 테스트 이미지 테스트 이미지 테스트 이미지\n",
      "테스트 이미지 테스트 이미지 테스트 이미지 테스트 이미지\n",
      "테스트 이미지 테스트 이미지 테스트 이미지 테스트 이미지\n",
      "테스트 이미지 테스트 이미지 테스트 이미지 테스트 이미지\n",
      "테스트 이미지 테스트 이미지 테스트 이미지 테스트 이미지\n",
      "테스트 이미지 테스트 이미지 테스트 이미지 테스트 이미지\n",
      "테스트 이미지 테스트 이미지 테스트 이미지 테스트 이미지\n",
      "테스트 이미지 테스트 이미지 테스트 이미지 테스트 이미지\n",
      "\n"
     ]
    }
   ],
   "source": [
    "text = pytesseract.image_to_string('testImg5.jpg', lang='kor+eng')\n",
    "print(text)"
   ]
  },
  {
   "cell_type": "code",
   "execution_count": null,
   "metadata": {},
   "outputs": [],
   "source": []
  },
  {
   "cell_type": "code",
   "execution_count": null,
   "metadata": {},
   "outputs": [],
   "source": []
  }
 ],
 "metadata": {
  "kernelspec": {
   "display_name": "Python 3.10.4 ('letter')",
   "language": "python",
   "name": "python3"
  },
  "language_info": {
   "codemirror_mode": {
    "name": "ipython",
    "version": 3
   },
   "file_extension": ".py",
   "mimetype": "text/x-python",
   "name": "python",
   "nbconvert_exporter": "python",
   "pygments_lexer": "ipython3",
   "version": "3.10.4"
  },
  "orig_nbformat": 4,
  "vscode": {
   "interpreter": {
    "hash": "60575f1d7025715b189e76c24af7d19e6bff84fa73e6074f182eac91126392a2"
   }
  }
 },
 "nbformat": 4,
 "nbformat_minor": 2
}

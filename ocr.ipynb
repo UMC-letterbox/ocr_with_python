{
 "cells": [
  {
   "cell_type": "markdown",
   "metadata": {},
   "source": [
    "# import module"
   ]
  },
  {
   "cell_type": "code",
   "execution_count": 6,
   "metadata": {},
   "outputs": [],
   "source": [
    "import easyocr\n",
    "from matplotlib import pyplot as plt\n",
    "import cv2\n",
    "import numpy as np\n",
    "from PIL import ImageFont, ImageDraw, Image\n",
    "\n",
    "#from imutils.perspective import four_point_transform\n",
    "#from imutils.contours import sort_contours\n",
    "#import imutils"
   ]
  },
  {
   "cell_type": "markdown",
   "metadata": {},
   "source": [
    "# set variable"
   ]
  },
  {
   "cell_type": "code",
   "execution_count": 8,
   "metadata": {},
   "outputs": [],
   "source": [
    "imgPath = 'testImg6.jpg'"
   ]
  },
  {
   "cell_type": "markdown",
   "metadata": {},
   "source": [
    "# square box"
   ]
  },
  {
   "cell_type": "code",
   "execution_count": 10,
   "metadata": {},
   "outputs": [
    {
     "name": "stderr",
     "output_type": "stream",
     "text": [
      "CUDA not available - defaulting to CPU. Note: This module is much faster with a GPU.\n"
     ]
    },
    {
     "data": {
      "image/png": "[encoded data removed]",
      "text/plain": [
       "<Figure size 432x288 with 1 Axes>"
      ]
     },
     "metadata": {
      "needs_background": "light"
     },
     "output_type": "display_data"
    }
   ],
   "source": [
    "reader = easyocr.Reader(['ko', 'en'])\n",
    "result =  reader.readtext(imgPath)\n",
    "\n",
    "img = cv2.imread(imgPath)\n",
    "\n",
    "img = Image.fromarray(img)\n",
    "font = ImageFont.truetype(\"malgun.ttf\", 40)\n",
    "draw = ImageDraw.Draw(img)\n",
    "\n",
    "for i in result:\n",
    "  x = i[0][0][0]\n",
    "  y = i[0][0][1]\n",
    "  w = i[0][1][0] - i[0][0][0]\n",
    "  h = i[0][2][1] - i[0][1][1]\n",
    "\n",
    "  draw.rectangle(((x, y), (x+w, y+h)), outline=\"blue\", width=2)\n",
    "  draw.text((int((x+x+w)/2), y-40), str(i[1]), font=font, fill=\"blue\")\n",
    "\n",
    "plt.imshow(img)\n",
    "plt.show()"
   ]
  },
  {
   "cell_type": "markdown",
   "metadata": {},
   "source": [
    "# extract text"
   ]
  },
  {
   "cell_type": "code",
   "execution_count": 11,
   "metadata": {},
   "outputs": [
    {
     "name": "stderr",
     "output_type": "stream",
     "text": [
      "CUDA not available - defaulting to CPU. Note: This module is much faster with a GPU.\n"
     ]
    },
    {
     "name": "stdout",
     "output_type": "stream",
     "text": [
      "아무생각\n"
     ]
    }
   ],
   "source": [
    "reader = easyocr.Reader(['ko'])\n",
    "result = reader.readtext(imgPath)\n",
    "for i in range(len(result)):\n",
    "    print(result[i][1])"
   ]
  },
  {
   "cell_type": "code",
   "execution_count": null,
   "metadata": {},
   "outputs": [],
   "source": []
  }
 ],
 "metadata": {
  "kernelspec": {
   "display_name": "Python 3.10.4 ('ocr')",
   "language": "python",
   "name": "python3"
  },
  "language_info": {
   "codemirror_mode": {
    "name": "ipython",
    "version": 3
   },
   "file_extension": ".py",
   "mimetype": "text/x-python",
   "name": "python",
   "nbconvert_exporter": "python",
   "pygments_lexer": "ipython3",
   "version": "3.10.4"
  },
  "orig_nbformat": 4,
  "vscode": {
   "interpreter": {
    "hash": "24785270829cbf2b7d361335a5d21e983f02bf7525942917d0e4d13d800c4ffc"
   }
  }
 },
 "nbformat": 4,
 "nbformat_minor": 2
}
